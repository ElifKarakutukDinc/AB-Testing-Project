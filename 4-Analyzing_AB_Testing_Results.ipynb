{
 "cells": [
  {
   "cell_type": "code",
   "execution_count": 1,
   "id": "5d35c62b-75f4-4dda-860e-93d60430e290",
   "metadata": {},
   "outputs": [],
   "source": [
    "# Import pandas \n",
    "import pandas as pd\n",
    "from datetime import datetime, timedelta\n",
    "import numpy as np\n",
    "import matplotlib.pyplot as plt\n",
    "import scipy\n",
    "from scipy import stats\n",
    "from scipy.stats import norm"
   ]
  },
  {
   "cell_type": "code",
   "execution_count": 2,
   "id": "4a638919-0377-400a-8550-4a68f574f79e",
   "metadata": {},
   "outputs": [
    {
     "name": "stdout",
     "output_type": "stream",
     "text": [
      "Index(['uid', 'country', 'gender', 'spent', 'purchases', 'date', 'group',\n",
      "       'device'],\n",
      "      dtype='object')\n"
     ]
    }
   ],
   "source": [
    "# Load the test_results\n",
    "test_results = pd.read_csv('datasets/AB_testing_results.csv',\n",
    "                            parse_dates=True,\n",
    "                            infer_datetime_format=True)\n",
    "\n",
    "\n",
    "# Print the columns of test_results\n",
    "print(test_results.columns)"
   ]
  },
  {
   "cell_type": "markdown",
   "id": "8d1c5a6f-9f32-4978-9dfe-d9adf9ab4b8a",
   "metadata": {},
   "source": [
    "### Confirming our test results\n",
    "To begin this chapter, you will confirm that everything ran correctly for an A/B test similar to that shown in the lesson. Like the A/B test in the lesson this one consists of trying to boost consumable sales through making changes to a paywall.\n",
    "\n",
    "The data from the test is loaded for you as \"ab_test_results\" and it has already been merged with the relevant demographics data. The checks you will perform will allow you to confidently report any results you uncover."
   ]
  },
  {
   "cell_type": "code",
   "execution_count": 3,
   "id": "c19c8801-5ffe-435a-8ab3-13ba550f33fa",
   "metadata": {},
   "outputs": [
    {
     "name": "stdout",
     "output_type": "stream",
     "text": [
      "         uid\n",
      "group       \n",
      "GRP A  23009\n",
      "GRP B  22874\n"
     ]
    }
   ],
   "source": [
    "# Compute and print the results\n",
    "results = test_results.groupby('group').agg({'uid': pd.Series.nunique}) \n",
    "print(results)"
   ]
  },
  {
   "cell_type": "code",
   "execution_count": 4,
   "id": "c8ba83ec-236d-45fa-a933-9c7353780a29",
   "metadata": {},
   "outputs": [
    {
     "name": "stdout",
     "output_type": "stream",
     "text": [
      "             uid\n",
      "group           \n",
      "GRP A  50.147113\n",
      "GRP B  49.852887\n"
     ]
    }
   ],
   "source": [
    "# Find the overall number of unique users using \"len\" and \"unique\"\n",
    "unique_users = len(test_results.uid.unique()) \n",
    "\n",
    "# Find the percentage in each group\n",
    "results = results / unique_users * 100\n",
    "print(results)"
   ]
  },
  {
   "cell_type": "code",
   "execution_count": 5,
   "id": "aaa72de1-240b-4ddb-bb98-68b94adea6c6",
   "metadata": {},
   "outputs": [
    {
     "name": "stdout",
     "output_type": "stream",
     "text": [
      "                           uid\n",
      "group device gender           \n",
      "GRP A A      F       12.239827\n",
      "             M       12.795589\n",
      "      I      F       12.542772\n",
      "             M       12.568925\n",
      "GRP B A      F       12.553669\n",
      "             M       12.499183\n",
      "      I      F       12.283417\n",
      "             M       12.516618\n"
     ]
    }
   ],
   "source": [
    "# Find the unique users in each group, by device and gender\n",
    "results = test_results.groupby(by=['group', 'device', 'gender']).agg({'uid': pd.Series.nunique}) \n",
    "\n",
    "# Find the overall number of unique users using \"len\" and \"unique\"\n",
    "unique_users = len(test_results.uid.unique())\n",
    "\n",
    "# Find the percentage in each group\n",
    "results = results / unique_users * 100\n",
    "print(results)"
   ]
  },
  {
   "cell_type": "markdown",
   "id": "6fdf25dd-cb38-4bb5-84a8-84467f3afb0c",
   "metadata": {},
   "source": [
    "### Intuition behind statistical significance\n",
    "#### p-value:\n",
    "In this exercise you will work to gain an intuitive understanding of statistical significance. You will do this by utilizing the get_pvalue() function on a variety of parameter sets that could reasonably arise or be chosen during the course of an A/B test. While doing this you should observing how statistical significance results vary as you change the parameters. This will help build your intuition surrounding this concept, and reveal some of the subtle pitfalls of p-values. As a reminder, this is the get_pvalue() function signature:"
   ]
  },
  {
   "cell_type": "code",
   "execution_count": 6,
   "id": "af37eefd-961f-4d55-a7e3-bbc42f9b1d7a",
   "metadata": {},
   "outputs": [],
   "source": [
    "def get_pvalue(cont_conv, test_conv, cont_size, test_size):  \n",
    "    lift =  - abs(test_conv - cont_conv)\n",
    "\n",
    "    scale_one = cont_conv * (1 - cont_conv) * (1 / cont_size)\n",
    "    scale_two = test_conv * (1 - test_conv) * (1 / test_size)\n",
    "    scale_val = (scale_one + scale_two)**0.5\n",
    "\n",
    "    p_value = 2 * stats.norm.cdf(lift, loc = 0, scale = scale_val )\n",
    "\n",
    "    return p_value"
   ]
  },
  {
   "cell_type": "code",
   "execution_count": 7,
   "id": "d20ee475-422f-4cb0-aef6-06d37192dcb8",
   "metadata": {},
   "outputs": [
    {
     "name": "stdout",
     "output_type": "stream",
     "text": [
      "4.131297741047306e-06\n"
     ]
    }
   ],
   "source": [
    "# Get the p-value\n",
    "p_value = get_pvalue(cont_conv=0.1, test_conv=0.17, cont_size=1000, test_size=1000)\n",
    "print(p_value)"
   ]
  },
  {
   "cell_type": "code",
   "execution_count": 8,
   "id": "7c702600-299d-4d50-a794-f7d77b1173cc",
   "metadata": {},
   "outputs": [
    {
     "name": "stdout",
     "output_type": "stream",
     "text": [
      "0.28366948940702086\n"
     ]
    }
   ],
   "source": [
    "# Get the p-value\n",
    "p_value = get_pvalue(cont_conv=0.1, test_conv=0.15, cont_size=100, test_size=100)\n",
    "print(p_value)"
   ]
  },
  {
   "cell_type": "code",
   "execution_count": 9,
   "id": "db2df4c2-6f54-4678-90b0-6f26902cddb2",
   "metadata": {},
   "outputs": [
    {
     "name": "stdout",
     "output_type": "stream",
     "text": [
      "0.370901935824383\n"
     ]
    }
   ],
   "source": [
    "# Get the p-value\n",
    "p_value = get_pvalue(cont_conv=0.48, test_conv=0.50, cont_size=1000, test_size=1000)\n",
    "print(p_value)"
   ]
  },
  {
   "cell_type": "markdown",
   "id": "2d54c052-d43b-4f48-af5a-0f1bf29d76f9",
   "metadata": {},
   "source": [
    "### Checking for statistical significance\n",
    "Now that you have an intuitive understanding of statistical significance and p-values, you will apply it to your test result data.\n",
    "\n",
    "The four parameters needed for the p-value function are the two conversion rates - cont_conv and test_conv and the two group sizes - cont_size and test_size. These are available in your workspace, so you have everything you need to check for statistical significance in our experiment results."
   ]
  },
  {
   "cell_type": "code",
   "execution_count": 10,
   "id": "5158c3cf-030a-47a9-b3e5-2161c261be99",
   "metadata": {},
   "outputs": [
    {
     "name": "stdout",
     "output_type": "stream",
     "text": [
      "4.131297741047306e-06\n",
      "Significant Result\n"
     ]
    }
   ],
   "source": [
    "# Compute the p-value\n",
    "p_value = get_pvalue(cont_conv=0.1, test_conv=0.17, cont_size=1000, test_size=1000)\n",
    "print(p_value)\n",
    "\n",
    "# Check for statistical significance\n",
    "if p_value >= 0.05:\n",
    "    print(\"Not Significant\")\n",
    "else:\n",
    "    print(\"Significant Result\")"
   ]
  },
  {
   "cell_type": "code",
   "execution_count": null,
   "id": "c32c955d-972f-4955-a3d5-81018cd79abf",
   "metadata": {},
   "outputs": [],
   "source": [
    "# Calculate our test't power\n",
    "get_power(test_size, cont_conv, test_conv, 0.95)"
   ]
  },
  {
   "cell_type": "markdown",
   "id": "b304afff-e47d-4be1-8c43-d9c3dee5418b",
   "metadata": {
    "tags": []
   },
   "source": [
    "### Understanding confidence intervals\n",
    "In this exercise, you'll develop your intuition for how various parameter values impact confidence intervals. Specifically, you will explore through the get_ci() function how changes widen or tighten the confidence interval. This is the function signature, where cl is the confidence level and sd is the standard deviation."
   ]
  },
  {
   "cell_type": "code",
   "execution_count": null,
   "id": "57279cf6-af69-4808-9f50-cb6d727117b3",
   "metadata": {},
   "outputs": [],
   "source": [
    "def get_ci(value, cl, sd):\n",
    "  loc = scipy.norm.ppf(1 - cl/2)\n",
    "  rng_val = scipy.norm.cdf(loc - value/sd)\n",
    "\n",
    "  lwr_bnd = value - rng_val\n",
    "  upr_bnd = value + rng_val \n",
    "\n",
    "  return_val = (lwr_bnd, upr_bnd)\n",
    "  return(return_val)"
   ]
  },
  {
   "cell_type": "code",
   "execution_count": null,
   "id": "fe587983-7547-43fe-84c2-b4ef923f3076",
   "metadata": {},
   "outputs": [],
   "source": [
    "# Compute and print the confidence interval.\n",
    "# Find the confidence interval with a value of 1, a confidence level of 0.975 and a standard deviation of 0.5.\n",
    "confidence_interval  = get_ci(1, 0.975, 0.5)\n",
    "print(confidence_interval)"
   ]
  },
  {
   "cell_type": "code",
   "execution_count": null,
   "id": "6ea46670-5dc9-41ec-b16e-b61c85602de5",
   "metadata": {},
   "outputs": [],
   "source": [
    "# Compute and print the confidence interval\n",
    "# Repeat the calculation, updating the confidence level to 0.95 and the standard deviation to 2. Leave the value as 1\n",
    "confidence_interval  = get_ci(1, 0.95, 2)\n",
    "print(confidence_interval)"
   ]
  },
  {
   "cell_type": "code",
   "execution_count": null,
   "id": "725db108-5aaa-4860-a7ce-82432dfbbb00",
   "metadata": {},
   "outputs": [],
   "source": [
    "# Compute and print the confidence interval\n",
    "# Finally, update your code such that the standard deviation is 0.001 while leaving the confidence level and value the same as the previous exercise part. \n",
    "# Compare the three confidence intervals outputted. How do they seem to relate to the parameters used?\n",
    "confidence_interval  = get_ci(1, 0.95, 0.001)\n",
    "print(confidence_interval)"
   ]
  },
  {
   "cell_type": "markdown",
   "id": "0c2b02f3-6c68-497c-963c-aa7a0552dd0e",
   "metadata": {},
   "source": [
    "#### Calculating confidence intervals\n",
    "Now you will calculate the confidence intervals for the A/B test results.\n",
    "\n",
    "The four values that have been calculated previously have been loaded for you (cont_conv, test_conv, test_size, cont_size) as variables with those names."
   ]
  },
  {
   "cell_type": "code",
   "execution_count": null,
   "id": "49306bcd-273e-4ab6-8c3d-b5a171c9d6f2",
   "metadata": {},
   "outputs": [],
   "source": [
    "def get_ci(test_conv, cont_conv, test_size, cont_size, ci):\n",
    "    sd = ((test_conv * (1-test_conv)) / test_size +\n",
    "         (cont_conv * (1-cont_conv)) / cont_size) **0.5\n",
    "    lift = test_conv - cont_conv\n",
    "    \n",
    "    val = stats.norm.isf((1-ci)/2)\n",
    "    lwr_bnd = lift - val * sd\n",
    "    upr_bnd = lift + val * sd\n",
    "    \n",
    "    return((lwr_bnd, upr_bnd))"
   ]
  },
  {
   "cell_type": "code",
   "execution_count": null,
   "id": "f98d0fd7-8df1-4bd5-a7cc-a2ad38a375d5",
   "metadata": {},
   "outputs": [],
   "source": [
    "# Calculate the mean of our lift distribution \n",
    "lift_mean = test_conv - cont_conv\n",
    "\n",
    "# Calculate variance and standard deviation \n",
    "lift_variance = (1 - test_conv) * test_conv /test_size + (1 - cont_conv) * cont_conv / cont_size\n",
    "lift_sd = lift_variance**0.5\n",
    "\n",
    "# Find the confidence intervals with cl = 0.95\n",
    "confidence_interval = get_ci(lift_mean, 0.95, lift_sd)\n",
    "print(confidence_interval)"
   ]
  },
  {
   "cell_type": "markdown",
   "id": "ae048118-5235-47a5-85aa-da6281617293",
   "metadata": {},
   "source": [
    "### Plotting the distribution\n",
    "In this exercise, you will visualize the test and control conversion rates as distributions. It is helpful to practice what was covered in the example, as this may be something you have not applied before. Additionally, viewing the data in this way can give a sense of the variability inherent in our estimation.\n",
    "\n",
    "Four variables, the test and control variances (test_var, cont_var), and the test and control conversion rates (test_conv and cont_conv) have been loaded for you."
   ]
  },
  {
   "cell_type": "code",
   "execution_count": null,
   "id": "0424d353-0eb0-4733-870a-fb1e48890e2a",
   "metadata": {},
   "outputs": [],
   "source": [
    "# Compute the standard deviations\n",
    "control_sd = cont_var**0.5\n",
    "test_sd = test_var**0.5\n",
    "\n",
    "# Create the range of x values \n",
    "control_line = np.linspace(cont_conv - 3 * control_sd, cont_conv + 3 * control_sd, 100)\n",
    "test_line = np.linspace(test_conv - 3 * test_sd, test_conv + 3 * test_sd, 100)\n",
    "\n",
    "# Plot the distribution \n",
    "plt.plot(control_line, norm.pdf(control_line, cont_conv, control_sd))\n",
    "plt.plot(test_line, norm.pdf(test_line, test_conv, test_sd))\n",
    "plt.show()"
   ]
  },
  {
   "cell_type": "markdown",
   "id": "366930c9-eb6b-4054-899b-2134df4b691b",
   "metadata": {},
   "source": [
    "### Plotting the difference distribution\n",
    "Now lets plot the difference distribution of our results that is, the distribution of our lift.\n",
    "\n",
    "The cont_var and test_var as well as the cont_conv and test_conv have been loaded for you. Additionally the upper and lower confidence interval bounds of this distribution have been provided as lwr_ci and upr_ci respectively."
   ]
  },
  {
   "cell_type": "code",
   "execution_count": null,
   "id": "3c6545fa-202f-4cea-aaef-e941bc12828c",
   "metadata": {},
   "outputs": [],
   "source": [
    "# Find the lift mean and standard deviation\n",
    "lift_mean = test_conv - cont_conv\n",
    "lift_sd = (test_var + cont_var) ** 0.5\n",
    "\n",
    "# Generate the range of x-values\n",
    "lift_line = np.linspace(lift_mean - 3 * lift_sd, lift_mean + 3 * lift_sd, 100)\n",
    "\n",
    "# Plot the lift distribution\n",
    "plt.plot(lift_line, norm.pdf(lift_line, lift_mean, lift_sd))\n",
    "\n",
    "# Add the annotation lines\n",
    "plt.axvline(x = lift_mean, color = 'green')\n",
    "plt.axvline(x = lwr_ci, color = 'red')\n",
    "plt.axvline(x = upr_ci, color = 'red')\n",
    "plt.show()"
   ]
  },
  {
   "cell_type": "code",
   "execution_count": null,
   "id": "260aaaac-65d1-47e6-b802-b2344c87642e",
   "metadata": {},
   "outputs": [],
   "source": []
  },
  {
   "cell_type": "code",
   "execution_count": null,
   "id": "33637e41-1ad0-41e0-878e-9453e23fe0b1",
   "metadata": {},
   "outputs": [],
   "source": []
  },
  {
   "cell_type": "code",
   "execution_count": null,
   "id": "0e9f0c63-767b-4506-be85-ed0f29a1528c",
   "metadata": {},
   "outputs": [],
   "source": []
  }
 ],
 "metadata": {
  "kernelspec": {
   "display_name": "Python 3 (ipykernel)",
   "language": "python",
   "name": "python3"
  },
  "language_info": {
   "codemirror_mode": {
    "name": "ipython",
    "version": 3
   },
   "file_extension": ".py",
   "mimetype": "text/x-python",
   "name": "python",
   "nbconvert_exporter": "python",
   "pygments_lexer": "ipython3",
   "version": "3.10.7"
  }
 },
 "nbformat": 4,
 "nbformat_minor": 5
}
