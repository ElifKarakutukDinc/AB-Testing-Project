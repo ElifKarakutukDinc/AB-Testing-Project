{
 "cells": [
  {
   "cell_type": "code",
   "execution_count": 1,
   "id": "ce6e7f89-dcbb-4bdf-b937-54433d188d29",
   "metadata": {},
   "outputs": [],
   "source": [
    "# Import pandas \n",
    "import pandas as pd\n",
    "from datetime import datetime, timedelta\n",
    "import numpy as np"
   ]
  },
  {
   "cell_type": "code",
   "execution_count": 2,
   "id": "69023252-42d2-4d42-8c5e-a254b7b508ae",
   "metadata": {},
   "outputs": [
    {
     "name": "stdout",
     "output_type": "stream",
     "text": [
      "Index(['uid', 'reg_date', 'device', 'gender', 'country', 'age'], dtype='object')\n",
      "Index(['date', 'uid', 'sku', 'price'], dtype='object')\n"
     ]
    }
   ],
   "source": [
    "# Load the customer_data\n",
    "customer_data = pd.read_csv('datasets/Customer_dataset.csv')\n",
    "\n",
    "# Load the app_purchases\n",
    "app_purchases = pd.read_csv('datasets/inapp_purchases_dataset.csv')\n",
    "\n",
    "# Print the columns of customer data\n",
    "print(customer_data.columns)\n",
    "\n",
    "# Print the columns of app_purchases\n",
    "print(app_purchases.columns)"
   ]
  },
  {
   "cell_type": "code",
   "execution_count": 3,
   "id": "e18fe019-8117-48aa-8c27-e1a3385ac3d8",
   "metadata": {},
   "outputs": [
    {
     "data": {
      "text/html": [
       "<div>\n",
       "<style scoped>\n",
       "    .dataframe tbody tr th:only-of-type {\n",
       "        vertical-align: middle;\n",
       "    }\n",
       "\n",
       "    .dataframe tbody tr th {\n",
       "        vertical-align: top;\n",
       "    }\n",
       "\n",
       "    .dataframe thead th {\n",
       "        text-align: right;\n",
       "    }\n",
       "</style>\n",
       "<table border=\"1\" class=\"dataframe\">\n",
       "  <thead>\n",
       "    <tr style=\"text-align: right;\">\n",
       "      <th></th>\n",
       "      <th>uid</th>\n",
       "      <th>reg_date</th>\n",
       "      <th>device</th>\n",
       "      <th>gender</th>\n",
       "      <th>country</th>\n",
       "      <th>age</th>\n",
       "    </tr>\n",
       "  </thead>\n",
       "  <tbody>\n",
       "    <tr>\n",
       "      <th>0</th>\n",
       "      <td>54030035.0</td>\n",
       "      <td>2017-06-29T00:00:00Z</td>\n",
       "      <td>and</td>\n",
       "      <td>M</td>\n",
       "      <td>USA</td>\n",
       "      <td>19</td>\n",
       "    </tr>\n",
       "    <tr>\n",
       "      <th>1</th>\n",
       "      <td>72574201.0</td>\n",
       "      <td>2018-03-05T00:00:00Z</td>\n",
       "      <td>iOS</td>\n",
       "      <td>F</td>\n",
       "      <td>TUR</td>\n",
       "      <td>22</td>\n",
       "    </tr>\n",
       "    <tr>\n",
       "      <th>2</th>\n",
       "      <td>64187558.0</td>\n",
       "      <td>2016-02-07T00:00:00Z</td>\n",
       "      <td>iOS</td>\n",
       "      <td>M</td>\n",
       "      <td>USA</td>\n",
       "      <td>16</td>\n",
       "    </tr>\n",
       "    <tr>\n",
       "      <th>3</th>\n",
       "      <td>92513925.0</td>\n",
       "      <td>2017-05-25T00:00:00Z</td>\n",
       "      <td>and</td>\n",
       "      <td>M</td>\n",
       "      <td>BRA</td>\n",
       "      <td>41</td>\n",
       "    </tr>\n",
       "    <tr>\n",
       "      <th>4</th>\n",
       "      <td>99231338.0</td>\n",
       "      <td>2017-03-26T00:00:00Z</td>\n",
       "      <td>iOS</td>\n",
       "      <td>M</td>\n",
       "      <td>FRA</td>\n",
       "      <td>59</td>\n",
       "    </tr>\n",
       "  </tbody>\n",
       "</table>\n",
       "</div>"
      ],
      "text/plain": [
       "          uid              reg_date device gender country  age\n",
       "0  54030035.0  2017-06-29T00:00:00Z    and      M     USA   19\n",
       "1  72574201.0  2018-03-05T00:00:00Z    iOS      F     TUR   22\n",
       "2  64187558.0  2016-02-07T00:00:00Z    iOS      M     USA   16\n",
       "3  92513925.0  2017-05-25T00:00:00Z    and      M     BRA   41\n",
       "4  99231338.0  2017-03-26T00:00:00Z    iOS      M     FRA   59"
      ]
     },
     "execution_count": 3,
     "metadata": {},
     "output_type": "execute_result"
    }
   ],
   "source": [
    "customer_data.head()"
   ]
  },
  {
   "cell_type": "code",
   "execution_count": 4,
   "id": "d616ff6d-4ce6-4d0f-b891-7ec9c141d4a7",
   "metadata": {},
   "outputs": [],
   "source": [
    "# Changing reg_date column type from string to datetime:\n",
    "customer_data[\"reg_date\"] = pd.to_datetime(customer_data[\"reg_date\"])  "
   ]
  },
  {
   "cell_type": "code",
   "execution_count": 5,
   "id": "d00dc6ba-716c-4ca1-8a8c-ea0cdfa90def",
   "metadata": {},
   "outputs": [],
   "source": [
    "# Adding new colum as reg_date_1 which is changed type from timestapt to datetime(Y-M-D):\n",
    "customer_data['reg_date_1'] = customer_data['reg_date'].dt.strftime('%Y-%m-%d')"
   ]
  },
  {
   "cell_type": "code",
   "execution_count": 6,
   "id": "7d83ac7a-5497-458c-aa01-3e9126c09d2f",
   "metadata": {},
   "outputs": [
    {
     "data": {
      "text/html": [
       "<div>\n",
       "<style scoped>\n",
       "    .dataframe tbody tr th:only-of-type {\n",
       "        vertical-align: middle;\n",
       "    }\n",
       "\n",
       "    .dataframe tbody tr th {\n",
       "        vertical-align: top;\n",
       "    }\n",
       "\n",
       "    .dataframe thead th {\n",
       "        text-align: right;\n",
       "    }\n",
       "</style>\n",
       "<table border=\"1\" class=\"dataframe\">\n",
       "  <thead>\n",
       "    <tr style=\"text-align: right;\">\n",
       "      <th></th>\n",
       "      <th>date</th>\n",
       "      <th>uid</th>\n",
       "      <th>sku</th>\n",
       "      <th>price</th>\n",
       "    </tr>\n",
       "  </thead>\n",
       "  <tbody>\n",
       "    <tr>\n",
       "      <th>0</th>\n",
       "      <td>2017-07-10</td>\n",
       "      <td>41195147</td>\n",
       "      <td>sku_three_499</td>\n",
       "      <td>499</td>\n",
       "    </tr>\n",
       "    <tr>\n",
       "      <th>1</th>\n",
       "      <td>2017-07-15</td>\n",
       "      <td>41195147</td>\n",
       "      <td>sku_three_499</td>\n",
       "      <td>499</td>\n",
       "    </tr>\n",
       "    <tr>\n",
       "      <th>2</th>\n",
       "      <td>2017-11-12</td>\n",
       "      <td>41195147</td>\n",
       "      <td>sku_four_599</td>\n",
       "      <td>599</td>\n",
       "    </tr>\n",
       "    <tr>\n",
       "      <th>3</th>\n",
       "      <td>2017-09-26</td>\n",
       "      <td>91591874</td>\n",
       "      <td>sku_two_299</td>\n",
       "      <td>299</td>\n",
       "    </tr>\n",
       "    <tr>\n",
       "      <th>4</th>\n",
       "      <td>2017-12-01</td>\n",
       "      <td>91591874</td>\n",
       "      <td>sku_four_599</td>\n",
       "      <td>599</td>\n",
       "    </tr>\n",
       "  </tbody>\n",
       "</table>\n",
       "</div>"
      ],
      "text/plain": [
       "         date       uid            sku  price\n",
       "0  2017-07-10  41195147  sku_three_499    499\n",
       "1  2017-07-15  41195147  sku_three_499    499\n",
       "2  2017-11-12  41195147   sku_four_599    599\n",
       "3  2017-09-26  91591874    sku_two_299    299\n",
       "4  2017-12-01  91591874   sku_four_599    599"
      ]
     },
     "execution_count": 6,
     "metadata": {},
     "output_type": "execute_result"
    }
   ],
   "source": [
    "app_purchases.head()"
   ]
  },
  {
   "cell_type": "code",
   "execution_count": 7,
   "id": "e785d4d6-48e9-4903-911a-564cd98b94a6",
   "metadata": {},
   "outputs": [
    {
     "name": "stdout",
     "output_type": "stream",
     "text": [
      "         date       uid             sku  price                  reg_date  \\\n",
      "0  2016-03-30  94055095    sku_four_599    599 2016-03-30 00:00:00+00:00   \n",
      "1  2015-10-28  69627745     sku_one_199    199 2015-10-28 00:00:00+00:00   \n",
      "2  2017-02-02  11604973  sku_seven_1499    499 2017-02-02 00:00:00+00:00   \n",
      "3  2016-06-05  22495315    sku_four_599    599 2016-06-05 00:00:00+00:00   \n",
      "4  2018-02-17  51365662     sku_two_299    299 2018-02-17 00:00:00+00:00   \n",
      "\n",
      "  device gender country  age  reg_date_1  \n",
      "0    iOS      F     BRA   16  2016-03-30  \n",
      "1    and      F     BRA   18  2015-10-28  \n",
      "2    and      F     USA   16  2017-02-02  \n",
      "3    and      F     USA   19  2016-06-05  \n",
      "4    iOS      M     TUR   16  2018-02-17  \n",
      "35\n"
     ]
    }
   ],
   "source": [
    "# Merge on the 'uid' and 'date' field\n",
    "uid_date_combined_data = app_purchases.merge(customer_data, left_on=['uid','date'],right_on=['uid','reg_date_1'], how='inner')\n",
    "\n",
    "# Examine the results \n",
    "print(uid_date_combined_data.head())\n",
    "print(len(uid_date_combined_data))"
   ]
  },
  {
   "cell_type": "code",
   "execution_count": 8,
   "id": "f4e1f4bb-7066-4989-8699-5141c575dfc0",
   "metadata": {},
   "outputs": [
    {
     "data": {
      "text/html": [
       "<div>\n",
       "<style scoped>\n",
       "    .dataframe tbody tr th:only-of-type {\n",
       "        vertical-align: middle;\n",
       "    }\n",
       "\n",
       "    .dataframe tbody tr th {\n",
       "        vertical-align: top;\n",
       "    }\n",
       "\n",
       "    .dataframe thead th {\n",
       "        text-align: right;\n",
       "    }\n",
       "</style>\n",
       "<table border=\"1\" class=\"dataframe\">\n",
       "  <thead>\n",
       "    <tr style=\"text-align: right;\">\n",
       "      <th></th>\n",
       "      <th>date</th>\n",
       "      <th>uid</th>\n",
       "      <th>sku</th>\n",
       "      <th>price</th>\n",
       "      <th>reg_date</th>\n",
       "      <th>device</th>\n",
       "      <th>gender</th>\n",
       "      <th>country</th>\n",
       "      <th>age</th>\n",
       "      <th>reg_date_1</th>\n",
       "    </tr>\n",
       "  </thead>\n",
       "  <tbody>\n",
       "    <tr>\n",
       "      <th>0</th>\n",
       "      <td>2016-03-30</td>\n",
       "      <td>94055095</td>\n",
       "      <td>sku_four_599</td>\n",
       "      <td>599</td>\n",
       "      <td>2016-03-30 00:00:00+00:00</td>\n",
       "      <td>iOS</td>\n",
       "      <td>F</td>\n",
       "      <td>BRA</td>\n",
       "      <td>16</td>\n",
       "      <td>2016-03-30</td>\n",
       "    </tr>\n",
       "    <tr>\n",
       "      <th>1</th>\n",
       "      <td>2015-10-28</td>\n",
       "      <td>69627745</td>\n",
       "      <td>sku_one_199</td>\n",
       "      <td>199</td>\n",
       "      <td>2015-10-28 00:00:00+00:00</td>\n",
       "      <td>and</td>\n",
       "      <td>F</td>\n",
       "      <td>BRA</td>\n",
       "      <td>18</td>\n",
       "      <td>2015-10-28</td>\n",
       "    </tr>\n",
       "    <tr>\n",
       "      <th>2</th>\n",
       "      <td>2017-02-02</td>\n",
       "      <td>11604973</td>\n",
       "      <td>sku_seven_1499</td>\n",
       "      <td>499</td>\n",
       "      <td>2017-02-02 00:00:00+00:00</td>\n",
       "      <td>and</td>\n",
       "      <td>F</td>\n",
       "      <td>USA</td>\n",
       "      <td>16</td>\n",
       "      <td>2017-02-02</td>\n",
       "    </tr>\n",
       "    <tr>\n",
       "      <th>3</th>\n",
       "      <td>2016-06-05</td>\n",
       "      <td>22495315</td>\n",
       "      <td>sku_four_599</td>\n",
       "      <td>599</td>\n",
       "      <td>2016-06-05 00:00:00+00:00</td>\n",
       "      <td>and</td>\n",
       "      <td>F</td>\n",
       "      <td>USA</td>\n",
       "      <td>19</td>\n",
       "      <td>2016-06-05</td>\n",
       "    </tr>\n",
       "    <tr>\n",
       "      <th>4</th>\n",
       "      <td>2018-02-17</td>\n",
       "      <td>51365662</td>\n",
       "      <td>sku_two_299</td>\n",
       "      <td>299</td>\n",
       "      <td>2018-02-17 00:00:00+00:00</td>\n",
       "      <td>iOS</td>\n",
       "      <td>M</td>\n",
       "      <td>TUR</td>\n",
       "      <td>16</td>\n",
       "      <td>2018-02-17</td>\n",
       "    </tr>\n",
       "  </tbody>\n",
       "</table>\n",
       "</div>"
      ],
      "text/plain": [
       "         date       uid             sku  price                  reg_date  \\\n",
       "0  2016-03-30  94055095    sku_four_599    599 2016-03-30 00:00:00+00:00   \n",
       "1  2015-10-28  69627745     sku_one_199    199 2015-10-28 00:00:00+00:00   \n",
       "2  2017-02-02  11604973  sku_seven_1499    499 2017-02-02 00:00:00+00:00   \n",
       "3  2016-06-05  22495315    sku_four_599    599 2016-06-05 00:00:00+00:00   \n",
       "4  2018-02-17  51365662     sku_two_299    299 2018-02-17 00:00:00+00:00   \n",
       "\n",
       "  device gender country  age  reg_date_1  \n",
       "0    iOS      F     BRA   16  2016-03-30  \n",
       "1    and      F     BRA   18  2015-10-28  \n",
       "2    and      F     USA   16  2017-02-02  \n",
       "3    and      F     USA   19  2016-06-05  \n",
       "4    iOS      M     TUR   16  2018-02-17  "
      ]
     },
     "execution_count": 8,
     "metadata": {},
     "output_type": "execute_result"
    }
   ],
   "source": [
    "uid_date_combined_data.head()"
   ]
  },
  {
   "cell_type": "markdown",
   "id": "05415946-4385-468c-aff8-c21771653423",
   "metadata": {},
   "source": [
    "### Practicing aggregations\n",
    "It's time to begin exploring the in-app purchase data in more detail. Here, you will practice aggregating the dataset in various ways using the .agg() method and then examine the results to get an understanding of the overall data, as well as a feel for how to aggregate data using pandas."
   ]
  },
  {
   "cell_type": "code",
   "execution_count": 9,
   "id": "9283af55-2206-4ee3-bc94-501d66a1f255",
   "metadata": {},
   "outputs": [
    {
     "name": "stdout",
     "output_type": "stream",
     "text": [
      "406.77259604707973\n"
     ]
    }
   ],
   "source": [
    "# Calculate the mean purchase price \n",
    "purchase_price_mean = app_purchases.price.agg('mean')\n",
    "\n",
    "# Examine the output \n",
    "print(purchase_price_mean)"
   ]
  },
  {
   "cell_type": "code",
   "execution_count": 10,
   "id": "97c377fe-d9bc-4d87-a0c5-23caa28496b4",
   "metadata": {},
   "outputs": [
    {
     "name": "stdout",
     "output_type": "stream",
     "text": [
      "mean      406.772596\n",
      "median    299.000000\n",
      "Name: price, dtype: float64\n"
     ]
    }
   ],
   "source": [
    "# Calculate the mean and median purchase price \n",
    "purchase_price_summary = app_purchases.price.agg(['mean', 'median'])\n",
    "\n",
    "# Examine the output \n",
    "print(purchase_price_summary)"
   ]
  },
  {
   "cell_type": "code",
   "execution_count": 11,
   "id": "dea80f02-4d38-4530-8315-c1d338d4c8da",
   "metadata": {},
   "outputs": [
    {
     "name": "stdout",
     "output_type": "stream",
     "text": [
      "             price        age\n",
      "mean    470.428571  22.771429\n",
      "median  499.000000  20.000000\n"
     ]
    }
   ],
   "source": [
    "# Calculate the mean and median of price and age\n",
    "purchase_summary = uid_date_combined_data.agg({'price': ['mean', 'median'], 'age': ['mean', 'median']})\n",
    "\n",
    "# Examine the output \n",
    "print(purchase_summary)"
   ]
  },
  {
   "cell_type": "code",
   "execution_count": 12,
   "id": "84ceb54f-2f94-4655-a0ad-8edbd8275ae9",
   "metadata": {},
   "outputs": [
    {
     "name": "stdout",
     "output_type": "stream",
     "text": [
      "                    price                   \n",
      "                     mean median         std\n",
      "device gender                               \n",
      "and    F       477.571429  499.0  200.685638\n",
      "       M       511.500000  549.0  229.518129\n",
      "iOS    F       427.571429  599.0  221.466971\n",
      "       M       449.000000  499.0  164.316767\n"
     ]
    }
   ],
   "source": [
    "# Group the data \n",
    "grouped_purchase_data = uid_date_combined_data.groupby(by = ['device', 'gender'])\n",
    "\n",
    "# Aggregate the data\n",
    "purchase_summary = grouped_purchase_data.agg({'price': ['mean', 'median', 'std']})\n",
    "\n",
    "# Examine the results\n",
    "print(purchase_summary) "
   ]
  },
  {
   "cell_type": "markdown",
   "id": "45dcd44f-3817-42bc-95ee-e0b0158bc9a9",
   "metadata": {},
   "source": [
    "### Calculating KPIs\n",
    "You're now going to take what you've learned and work through calculating a KPI yourself. Specifically, you'll calculate the average amount paid per purchase within a user's first 28 days using the purchase_data DataFrame from before.\n",
    "\n",
    "This KPI can provide a sense of the popularity of different in-app purchase price points to users within their first month."
   ]
  },
  {
   "cell_type": "code",
   "execution_count": 13,
   "id": "97182d27-1c8b-43d6-a3ef-f4c0f344bce6",
   "metadata": {},
   "outputs": [
    {
     "data": {
      "text/html": [
       "<div>\n",
       "<style scoped>\n",
       "    .dataframe tbody tr th:only-of-type {\n",
       "        vertical-align: middle;\n",
       "    }\n",
       "\n",
       "    .dataframe tbody tr th {\n",
       "        vertical-align: top;\n",
       "    }\n",
       "\n",
       "    .dataframe thead th {\n",
       "        text-align: right;\n",
       "    }\n",
       "</style>\n",
       "<table border=\"1\" class=\"dataframe\">\n",
       "  <thead>\n",
       "    <tr style=\"text-align: right;\">\n",
       "      <th></th>\n",
       "      <th>date</th>\n",
       "      <th>uid</th>\n",
       "      <th>sku</th>\n",
       "      <th>price</th>\n",
       "      <th>reg_date</th>\n",
       "      <th>device</th>\n",
       "      <th>gender</th>\n",
       "      <th>country</th>\n",
       "      <th>age</th>\n",
       "      <th>reg_date_1</th>\n",
       "    </tr>\n",
       "  </thead>\n",
       "  <tbody>\n",
       "    <tr>\n",
       "      <th>0</th>\n",
       "      <td>2016-03-30</td>\n",
       "      <td>94055095</td>\n",
       "      <td>sku_four_599</td>\n",
       "      <td>599</td>\n",
       "      <td>2016-03-30 00:00:00+00:00</td>\n",
       "      <td>iOS</td>\n",
       "      <td>F</td>\n",
       "      <td>BRA</td>\n",
       "      <td>16</td>\n",
       "      <td>2016-03-30</td>\n",
       "    </tr>\n",
       "    <tr>\n",
       "      <th>1</th>\n",
       "      <td>2015-10-28</td>\n",
       "      <td>69627745</td>\n",
       "      <td>sku_one_199</td>\n",
       "      <td>199</td>\n",
       "      <td>2015-10-28 00:00:00+00:00</td>\n",
       "      <td>and</td>\n",
       "      <td>F</td>\n",
       "      <td>BRA</td>\n",
       "      <td>18</td>\n",
       "      <td>2015-10-28</td>\n",
       "    </tr>\n",
       "    <tr>\n",
       "      <th>2</th>\n",
       "      <td>2017-02-02</td>\n",
       "      <td>11604973</td>\n",
       "      <td>sku_seven_1499</td>\n",
       "      <td>499</td>\n",
       "      <td>2017-02-02 00:00:00+00:00</td>\n",
       "      <td>and</td>\n",
       "      <td>F</td>\n",
       "      <td>USA</td>\n",
       "      <td>16</td>\n",
       "      <td>2017-02-02</td>\n",
       "    </tr>\n",
       "  </tbody>\n",
       "</table>\n",
       "</div>"
      ],
      "text/plain": [
       "         date       uid             sku  price                  reg_date  \\\n",
       "0  2016-03-30  94055095    sku_four_599    599 2016-03-30 00:00:00+00:00   \n",
       "1  2015-10-28  69627745     sku_one_199    199 2015-10-28 00:00:00+00:00   \n",
       "2  2017-02-02  11604973  sku_seven_1499    499 2017-02-02 00:00:00+00:00   \n",
       "\n",
       "  device gender country  age  reg_date_1  \n",
       "0    iOS      F     BRA   16  2016-03-30  \n",
       "1    and      F     BRA   18  2015-10-28  \n",
       "2    and      F     USA   16  2017-02-02  "
      ]
     },
     "execution_count": 13,
     "metadata": {},
     "output_type": "execute_result"
    }
   ],
   "source": [
    "uid_date_combined_data.head(3)"
   ]
  },
  {
   "cell_type": "code",
   "execution_count": 14,
   "id": "a5943937-2d43-43aa-8824-8bb76ca0fbea",
   "metadata": {},
   "outputs": [],
   "source": [
    "# Define the most recent date in our data\n",
    "current_date = pd.to_datetime('2018-03-17')"
   ]
  },
  {
   "cell_type": "code",
   "execution_count": 15,
   "id": "71ab6420-a858-4d6c-ac89-6aa566d4f7ae",
   "metadata": {},
   "outputs": [],
   "source": [
    "# Compute max_purchase_date\n",
    "max_purchase_date = current_date - timedelta(days=28)"
   ]
  },
  {
   "cell_type": "code",
   "execution_count": 17,
   "id": "5ea1a2e9-77b6-44e2-b46a-b5b78638b6c9",
   "metadata": {},
   "outputs": [],
   "source": [
    "uid_date_combined_data['reg_date'] = pd.to_datetime(uid_date_combined_data.reg_date ).dt.tz_localize(None)"
   ]
  },
  {
   "cell_type": "code",
   "execution_count": 18,
   "id": "8d6c1e70-dc6f-45e4-b1cb-0a87cb5a5713",
   "metadata": {},
   "outputs": [
    {
     "name": "stdout",
     "output_type": "stream",
     "text": [
      "483.375\n"
     ]
    }
   ],
   "source": [
    "# Filter to only include users who registered before our max date\n",
    "purchase_data_filt = uid_date_combined_data[uid_date_combined_data.reg_date < max_purchase_date]\n",
    "\n",
    "# Filter to contain only purchases within the first 28 days of registration\n",
    "purchase_data_filt = purchase_data_filt[(purchase_data_filt.date <= \n",
    "                        purchase_data_filt.reg_date + timedelta(days=28))]\n",
    "\n",
    "# Output the mean price paid per purchase\n",
    "print(purchase_data_filt.price.mean())"
   ]
  },
  {
   "cell_type": "markdown",
   "id": "ba3dc39f-a375-460c-bd12-0d91ff4f64ec",
   "metadata": {},
   "source": [
    "### Average purchase price by cohort\n",
    "Building on the previous exercise, let's look at the same KPI, average purchase price, and a similar one, median purchase price, within the first 28 days. Additionally, let's look at these metrics not limited to 28 days to compare.\n",
    "\n",
    "We can calculate these metrics across a set of cohorts and see what differences emerge. This is a useful task as it can help us understand how behaviors vary across cohorts.\n",
    "\n",
    "Note that in our data the price variable is given in cents."
   ]
  },
  {
   "cell_type": "code",
   "execution_count": 19,
   "id": "63998e45-6b25-45c8-86fe-40a6f938d0aa",
   "metadata": {
    "tags": []
   },
   "outputs": [],
   "source": [
    "# Set the max registration date to be one month before today\n",
    "max_reg_date = current_date - timedelta(days=28)\n",
    "\n",
    "# Find the month 1 values\n",
    "month1 = np.where((uid_date_combined_data.reg_date < max_reg_date) &\n",
    "                 (uid_date_combined_data.date < uid_date_combined_data.reg_date + timedelta(days=28)),\n",
    "                  uid_date_combined_data.price, \n",
    "                  np.NaN)\n",
    "                 \n",
    "# Update the value in the DataFrame\n",
    "uid_date_combined_data['month1'] = month1"
   ]
  },
  {
   "cell_type": "code",
   "execution_count": 20,
   "id": "733986de-65c6-40a9-bca9-dd368769bd50",
   "metadata": {},
   "outputs": [],
   "source": [
    "# Group the data by gender and device \n",
    "purchase_data_upd = uid_date_combined_data.groupby(by=['gender', 'device'], as_index=False) "
   ]
  },
  {
   "cell_type": "code",
   "execution_count": 21,
   "id": "21a2c4eb-b20b-425f-9adc-e5d3b2c1d08b",
   "metadata": {},
   "outputs": [
    {
     "name": "stdout",
     "output_type": "stream",
     "text": [
      "  gender device      month1              price       \n",
      "                       mean median        mean median\n",
      "0      F    and  475.923077  499.0  477.571429  499.0\n",
      "1      F    iOS  427.571429  599.0  427.571429  599.0\n",
      "2      M    and  511.500000  549.0  511.500000  549.0\n",
      "3      M    iOS  549.000000  549.0  449.000000  499.0\n"
     ]
    }
   ],
   "source": [
    "# Aggregate the month1 and price data \n",
    "purchase_summary = purchase_data_upd.agg(\n",
    "                        {'month1': ['mean', 'median'],\n",
    "                        'price': ['mean', 'median']})\n",
    "\n",
    "# Examine the results \n",
    "print(purchase_summary)"
   ]
  }
 ],
 "metadata": {
  "kernelspec": {
   "display_name": "Python 3 (ipykernel)",
   "language": "python",
   "name": "python3"
  },
  "language_info": {
   "codemirror_mode": {
    "name": "ipython",
    "version": 3
   },
   "file_extension": ".py",
   "mimetype": "text/x-python",
   "name": "python",
   "nbconvert_exporter": "python",
   "pygments_lexer": "ipython3",
   "version": "3.10.7"
  }
 },
 "nbformat": 4,
 "nbformat_minor": 5
}
