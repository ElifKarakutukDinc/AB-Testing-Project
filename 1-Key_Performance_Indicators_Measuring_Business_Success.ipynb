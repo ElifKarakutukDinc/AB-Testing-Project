{
 "cells": [
  {
   "cell_type": "code",
   "execution_count": null,
   "id": "ce6e7f89-dcbb-4bdf-b937-54433d188d29",
   "metadata": {},
   "outputs": [],
   "source": [
    "# Import pandas \n",
    "import pandas as pd\n",
    "from datetime import datetime, timedelta\n",
    "import numpy as np"
   ]
  },
  {
   "cell_type": "code",
   "execution_count": null,
   "id": "69023252-42d2-4d42-8c5e-a254b7b508ae",
   "metadata": {},
   "outputs": [],
   "source": [
    "# Load the customer_data\n",
    "customer_data = pd.read_csv('datasets/Customer_dataset.csv')\n",
    "\n",
    "# Load the app_purchases\n",
    "app_purchases = pd.read_csv('datasets/inapp_purchases_dataset.csv')\n",
    "\n",
    "# Print the columns of customer data\n",
    "print(customer_data.columns)\n",
    "\n",
    "# Print the columns of app_purchases\n",
    "print(app_purchases.columns)"
   ]
  },
  {
   "cell_type": "code",
   "execution_count": null,
   "id": "e18fe019-8117-48aa-8c27-e1a3385ac3d8",
   "metadata": {},
   "outputs": [],
   "source": [
    "customer_data.head()"
   ]
  },
  {
   "cell_type": "code",
   "execution_count": null,
   "id": "d616ff6d-4ce6-4d0f-b891-7ec9c141d4a7",
   "metadata": {},
   "outputs": [],
   "source": [
    "# Changing reg_date column type from string to datetime:\n",
    "customer_data[\"reg_date\"] = pd.to_datetime(customer_data[\"reg_date\"])  "
   ]
  },
  {
   "cell_type": "code",
   "execution_count": null,
   "id": "d00dc6ba-716c-4ca1-8a8c-ea0cdfa90def",
   "metadata": {},
   "outputs": [],
   "source": [
    "# Adding new colum as reg_date_1 which is changed type from timestapt to datetime(Y-M-D):\n",
    "customer_data['reg_date_1'] = customer_data['reg_date'].dt.strftime('%Y-%m-%d')"
   ]
  },
  {
   "cell_type": "code",
   "execution_count": null,
   "id": "7d83ac7a-5497-458c-aa01-3e9126c09d2f",
   "metadata": {},
   "outputs": [],
   "source": [
    "app_purchases.head()"
   ]
  },
  {
   "cell_type": "code",
   "execution_count": null,
   "id": "e785d4d6-48e9-4903-911a-564cd98b94a6",
   "metadata": {},
   "outputs": [],
   "source": [
    "# Merge on the 'uid' and 'date' field\n",
    "uid_date_combined_data = app_purchases.merge(customer_data, left_on=['uid','date'],right_on=['uid','reg_date_1'], how='inner')\n",
    "\n",
    "# Examine the results \n",
    "print(uid_date_combined_data.head())\n",
    "print(len(uid_date_combined_data))"
   ]
  },
  {
   "cell_type": "code",
   "execution_count": null,
   "id": "f4e1f4bb-7066-4989-8699-5141c575dfc0",
   "metadata": {},
   "outputs": [],
   "source": [
    "uid_date_combined_data.head()"
   ]
  },
  {
   "cell_type": "markdown",
   "id": "05415946-4385-468c-aff8-c21771653423",
   "metadata": {},
   "source": [
    "### Practicing aggregations\n",
    "It's time to begin exploring the in-app purchase data in more detail. Here, you will practice aggregating the dataset in various ways using the .agg() method and then examine the results to get an understanding of the overall data, as well as a feel for how to aggregate data using pandas."
   ]
  },
  {
   "cell_type": "code",
   "execution_count": null,
   "id": "9283af55-2206-4ee3-bc94-501d66a1f255",
   "metadata": {},
   "outputs": [],
   "source": [
    "# Calculate the mean purchase price \n",
    "purchase_price_mean = app_purchases.price.agg('mean')\n",
    "\n",
    "# Examine the output \n",
    "print(purchase_price_mean)"
   ]
  },
  {
   "cell_type": "code",
   "execution_count": null,
   "id": "97c377fe-d9bc-4d87-a0c5-23caa28496b4",
   "metadata": {},
   "outputs": [],
   "source": [
    "# Calculate the mean and median purchase price \n",
    "purchase_price_summary = app_purchases.price.agg(['mean', 'median'])\n",
    "\n",
    "# Examine the output \n",
    "print(purchase_price_summary)"
   ]
  },
  {
   "cell_type": "code",
   "execution_count": null,
   "id": "dea80f02-4d38-4530-8315-c1d338d4c8da",
   "metadata": {},
   "outputs": [],
   "source": [
    "# Calculate the mean and median of price and age\n",
    "purchase_summary = uid_date_combined_data.agg({'price': ['mean', 'median'], 'age': ['mean', 'median']})\n",
    "\n",
    "# Examine the output \n",
    "print(purchase_summary)"
   ]
  },
  {
   "cell_type": "code",
   "execution_count": null,
   "id": "84ceb54f-2f94-4655-a0ad-8edbd8275ae9",
   "metadata": {},
   "outputs": [],
   "source": [
    "# Group the data \n",
    "grouped_purchase_data = uid_date_combined_data.groupby(by = ['device', 'gender'])\n",
    "\n",
    "# Aggregate the data\n",
    "purchase_summary = grouped_purchase_data.agg({'price': ['mean', 'median', 'std']})\n",
    "\n",
    "# Examine the results\n",
    "print(purchase_summary) "
   ]
  },
  {
   "cell_type": "markdown",
   "id": "45dcd44f-3817-42bc-95ee-e0b0158bc9a9",
   "metadata": {},
   "source": [
    "### Calculating KPIs\n",
    "You're now going to take what you've learned and work through calculating a KPI yourself. Specifically, you'll calculate the average amount paid per purchase within a user's first 28 days using the purchase_data DataFrame from before.\n",
    "\n",
    "This KPI can provide a sense of the popularity of different in-app purchase price points to users within their first month."
   ]
  },
  {
   "cell_type": "code",
   "execution_count": null,
   "id": "97182d27-1c8b-43d6-a3ef-f4c0f344bce6",
   "metadata": {},
   "outputs": [],
   "source": [
    "uid_date_combined_data.head(3)"
   ]
  },
  {
   "cell_type": "code",
   "execution_count": null,
   "id": "a5943937-2d43-43aa-8824-8bb76ca0fbea",
   "metadata": {},
   "outputs": [],
   "source": [
    "# Define the most recent date in our data\n",
    "current_date = pd.to_datetime('2018-03-17')"
   ]
  },
  {
   "cell_type": "code",
   "execution_count": null,
   "id": "71ab6420-a858-4d6c-ac89-6aa566d4f7ae",
   "metadata": {},
   "outputs": [],
   "source": [
    "# Compute max_purchase_date\n",
    "max_purchase_date = current_date - timedelta(days=28)"
   ]
  },
  {
   "cell_type": "code",
   "execution_count": null,
   "id": "5ea1a2e9-77b6-44e2-b46a-b5b78638b6c9",
   "metadata": {},
   "outputs": [],
   "source": [
    "uid_date_combined_data['reg_date'] = pd.to_datetime(uid_date_combined_data.reg_date ).dt.tz_localize(None)"
   ]
  },
  {
   "cell_type": "code",
   "execution_count": null,
   "id": "8d6c1e70-dc6f-45e4-b1cb-0a87cb5a5713",
   "metadata": {},
   "outputs": [],
   "source": [
    "# Filter to only include users who registered before our max date\n",
    "purchase_data_filt = uid_date_combined_data[uid_date_combined_data.reg_date < max_purchase_date]\n",
    "\n",
    "# Filter to contain only purchases within the first 28 days of registration\n",
    "purchase_data_filt = purchase_data_filt[(purchase_data_filt.date <= \n",
    "                        purchase_data_filt.reg_date + timedelta(days=28))]\n",
    "\n",
    "# Output the mean price paid per purchase\n",
    "print(purchase_data_filt.price.mean())"
   ]
  },
  {
   "cell_type": "markdown",
   "id": "ba3dc39f-a375-460c-bd12-0d91ff4f64ec",
   "metadata": {},
   "source": [
    "### Average purchase price by cohort\n",
    "Building on the previous exercise, let's look at the same KPI, average purchase price, and a similar one, median purchase price, within the first 28 days. Additionally, let's look at these metrics not limited to 28 days to compare.\n",
    "\n",
    "We can calculate these metrics across a set of cohorts and see what differences emerge. This is a useful task as it can help us understand how behaviors vary across cohorts.\n",
    "\n",
    "Note that in our data the price variable is given in cents."
   ]
  },
  {
   "cell_type": "code",
   "execution_count": null,
   "id": "63998e45-6b25-45c8-86fe-40a6f938d0aa",
   "metadata": {
    "tags": []
   },
   "outputs": [],
   "source": [
    "# Set the max registration date to be one month before today\n",
    "max_reg_date = current_date - timedelta(days=28)\n",
    "\n",
    "# Find the month 1 values\n",
    "month1 = np.where((uid_date_combined_data.reg_date < max_reg_date) &\n",
    "                 (uid_date_combined_data.date < uid_date_combined_data.reg_date + timedelta(days=28)),\n",
    "                  uid_date_combined_data.price, \n",
    "                  np.NaN)\n",
    "                 \n",
    "# Update the value in the DataFrame\n",
    "uid_date_combined_data['month1'] = month1"
   ]
  },
  {
   "cell_type": "code",
   "execution_count": null,
   "id": "733986de-65c6-40a9-bca9-dd368769bd50",
   "metadata": {},
   "outputs": [],
   "source": [
    "# Group the data by gender and device \n",
    "purchase_data_upd = uid_date_combined_data.groupby(by=['gender', 'device'], as_index=False) "
   ]
  },
  {
   "cell_type": "code",
   "execution_count": null,
   "id": "21a2c4eb-b20b-425f-9adc-e5d3b2c1d08b",
   "metadata": {},
   "outputs": [],
   "source": [
    "# Aggregate the month1 and price data \n",
    "purchase_summary = purchase_data_upd.agg(\n",
    "                        {'month1': ['mean', 'median'],\n",
    "                        'price': ['mean', 'median']})\n",
    "\n",
    "# Examine the results \n",
    "print(purchase_summary)"
   ]
  }
 ],
 "metadata": {
  "kernelspec": {
   "display_name": "Python 3 (ipykernel)",
   "language": "python",
   "name": "python3"
  },
  "language_info": {
   "codemirror_mode": {
    "name": "ipython",
    "version": 3
   },
   "file_extension": ".py",
   "mimetype": "text/x-python",
   "name": "python",
   "nbconvert_exporter": "python",
   "pygments_lexer": "ipython3",
   "version": "3.10.7"
  }
 },
 "nbformat": 4,
 "nbformat_minor": 5
}
